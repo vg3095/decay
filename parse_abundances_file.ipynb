{
 "cells": [
  {
   "cell_type": "code",
   "execution_count": 1,
   "metadata": {
    "collapsed": false
   },
   "outputs": [
    {
     "name": "stderr",
     "output_type": "stream",
     "text": [
      "tardis.atomic - INFO - Read Atom Data with UUID=5ca3035ca8b311e3bb684437e69d75d7 and MD5=21095dd25faa1683f4c90c911a00c3f8\n"
     ]
    }
   ],
   "source": [
    "from tardis.atomic import AtomData\n",
    "import numpy as np\n",
    "import pandas as pd\n",
    "\n",
    "atomic_dataset = AtomData.from_hdf5('kurucz_cd23_chianti_H_He.h5')"
   ]
  },
  {
   "cell_type": "code",
   "execution_count": 2,
   "metadata": {
    "collapsed": true
   },
   "outputs": [],
   "source": [
    "def get_index(ele):\n",
    "    index=-1\n",
    "    for atomic_no,row in atomic_dataset.atom_data.iterrows():\n",
    "        if ele in row['name']:\n",
    "            index = atomic_no\n",
    "            break\n",
    "    return index"
   ]
  },
  {
   "cell_type": "code",
   "execution_count": 45,
   "metadata": {
    "collapsed": false
   },
   "outputs": [],
   "source": [
    "def extract_block(f):\n",
    "    qty = []\n",
    "    for line in f:\n",
    "        items = line.split()\n",
    "        if items:\n",
    "            qty.extend(np.array(items).astype(np.float64))\n",
    "        else:\n",
    "            break\n",
    "    qty = np.array(qty)\n",
    "    return qty"
   ]
  },
  {
   "cell_type": "code",
   "execution_count": 50,
   "metadata": {
    "collapsed": false
   },
   "outputs": [],
   "source": [
    "def parse_file(fname):\n",
    "    with open(fname,'r') as f:\n",
    "        for line in f:\n",
    "            items = line.split()\n",
    "            n = len(items)\n",
    "            \n",
    "            if 'data points' in line:\n",
    "                no_of_shells = int(items[n-1])\n",
    "                df = pd.DataFrame(columns=np.arange(int(items[n-1])),\n",
    "                         index=pd.Index([],\n",
    "                                        name='element'),\n",
    "                         dtype=np.float64)            \n",
    "            if 'Velocity' in line:\n",
    "                velocity = extract_block(f)\n",
    "            if 'Density' in line:\n",
    "                density = extract_block(f)\n",
    "            if 'Electron density' in line:\n",
    "                elec_density = extract_block(f)\n",
    "            if 'mass fraction\\n' in line:\n",
    "                    abundances = []\n",
    "                    element_string = items[0]\n",
    "                    atomic_no = get_index(element_string.capitalize())\n",
    "                    element_symbol = atomic_dataset.atom_data.loc[atomic_no]['symbol']\n",
    "                    \n",
    "                    #Its a Isotope\n",
    "                    if n==4:\n",
    "                        element_symbol+=items[1]\n",
    "                    \n",
    "                    for line in f:\n",
    "                        items =line.split()\n",
    "                        if items:\n",
    "                            abundances.extend( np.array(items).astype(np.float64))\n",
    "                        else:\n",
    "                            break\n",
    "                    \n",
    "                    df.loc[element_symbol] = abundances\n",
    "    print elec_density\n",
    "    return df.transpose()\n",
    "                "
   ]
  },
  {
   "cell_type": "code",
   "execution_count": 51,
   "metadata": {
    "collapsed": false
   },
   "outputs": [
    {
     "name": "stdout",
     "output_type": "stream",
     "text": [
      "[  4.70364060e+04   4.71124880e+04   4.76518420e+04   4.83089110e+04\n",
      "   4.93082900e+04   5.08966210e+04   5.37999370e+04   6.13401300e+04\n",
      "   7.20278070e+04   8.71029750e+04   1.08745060e+05   1.39554170e+05\n",
      "   1.83737430e+05   2.47223360e+05   3.38391730e+05   4.69982550e+05\n",
      "   6.59094780e+05   9.32716610e+05   1.32840960e+06   1.90293130e+06\n",
      "   2.73615280e+06   3.94278520e+06   5.68465750e+06   8.18390870e+06\n",
      "   1.17596450e+07   1.68244670e+07   2.39401650e+07   3.38978510e+07\n",
      "   4.82262960e+07   6.76849540e+07   9.11996970e+07   1.15036740e+08\n",
      "   1.38209070e+08   1.71347700e+08   2.22237930e+08   2.79449510e+08\n",
      "   3.37667470e+08   5.13524160e+08   1.01221150e+09   2.11526190e+09\n",
      "   3.65566270e+09   5.89768600e+09   8.96286570e+09   1.26015390e+10\n",
      "   1.68887030e+10   2.23625640e+10   3.06896830e+10   4.34738250e+10\n",
      "   6.03532270e+10   8.28886440e+10   1.19219490e+11   1.84117150e+11\n",
      "   2.80771530e+11   3.61764010e+11   4.75848880e+11   6.84759360e+11\n",
      "   1.06128230e+12   1.86431720e+12   2.18245840e+12   1.71916710e+12\n",
      "   1.41694310e+12   1.45061930e+12   2.06464510e+12   2.87431630e+12\n",
      "   3.51127070e+12   4.64055530e+12   5.80018250e+12   7.37497730e+12\n",
      "   9.40355430e+12   1.32526570e+13   1.82691660e+13   2.24252630e+13\n",
      "   2.54736980e+13   2.95983980e+13   3.41656480e+13   3.74335330e+13\n",
      "   4.28163880e+13   4.93199250e+13   5.29044720e+13   5.61047060e+13\n",
      "   6.12291450e+13   6.56556830e+13   6.92910000e+13   7.62135580e+13\n",
      "   8.72946080e+13   8.91628070e+13   8.62171550e+13   1.05333970e+14\n",
      "   1.39354080e+14   1.66044430e+14   1.95104820e+14   2.24365220e+14\n",
      "   2.49514470e+14   2.63881960e+14   2.72636480e+14   2.83971320e+14\n",
      "   2.97434220e+14   3.11644090e+14   3.19320120e+14   3.19795180e+14\n",
      "   3.19032580e+14   3.14196210e+14   3.11580880e+14   3.07013380e+14\n",
      "   2.91433090e+14   2.72417330e+14   2.63718680e+14   2.60875490e+14\n",
      "   2.59821370e+14   2.59584440e+14   2.59545400e+14   2.59539020e+14\n",
      "   2.59538180e+14   2.59538070e+14   2.59538070e+14]\n"
     ]
    }
   ],
   "source": [
    "df = parse_file('DDC15_SN_HYDRO_DATA_0.976d')\n",
    "#df.to_csv('test.csv',index=False,sep=' ')"
   ]
  },
  {
   "cell_type": "code",
   "execution_count": 7,
   "metadata": {
    "collapsed": false
   },
   "outputs": [
    {
     "ename": "TypeError",
     "evalue": "Required argument 'object' (pos 1) not found",
     "output_type": "error",
     "traceback": [
      "\u001b[0;31m---------------------------------------------------------------------------\u001b[0m",
      "\u001b[0;31mTypeError\u001b[0m                                 Traceback (most recent call last)",
      "\u001b[0;32m<ipython-input-7-e82994c6a167>\u001b[0m in \u001b[0;36m<module>\u001b[0;34m()\u001b[0m\n\u001b[0;32m----> 1\u001b[0;31m \u001b[0ma\u001b[0m \u001b[0;34m=\u001b[0m \u001b[0mnp\u001b[0m\u001b[0;34m.\u001b[0m\u001b[0marray\u001b[0m\u001b[0;34m(\u001b[0m\u001b[0;34m)\u001b[0m\u001b[0;34m\u001b[0m\u001b[0m\n\u001b[0m",
      "\u001b[0;31mTypeError\u001b[0m: Required argument 'object' (pos 1) not found"
     ]
    }
   ],
   "source": []
  },
  {
   "cell_type": "code",
   "execution_count": null,
   "metadata": {
    "collapsed": true
   },
   "outputs": [],
   "source": []
  }
 ],
 "metadata": {
  "kernelspec": {
   "display_name": "Python 2",
   "language": "python",
   "name": "python2"
  },
  "language_info": {
   "codemirror_mode": {
    "name": "ipython",
    "version": 2
   },
   "file_extension": ".py",
   "mimetype": "text/x-python",
   "name": "python",
   "nbconvert_exporter": "python",
   "pygments_lexer": "ipython2",
   "version": "2.7.13"
  }
 },
 "nbformat": 4,
 "nbformat_minor": 2
}
