{
 "cells": [
  {
   "cell_type": "code",
   "execution_count": 1,
   "metadata": {
    "collapsed": false
   },
   "outputs": [
    {
     "name": "stderr",
     "output_type": "stream",
     "text": [
      "tardis.atomic - INFO - Read Atom Data with UUID=5ca3035ca8b311e3bb684437e69d75d7 and MD5=21095dd25faa1683f4c90c911a00c3f8\n"
     ]
    }
   ],
   "source": [
    "from tardis.atomic import AtomData\n",
    "import numpy as np\n",
    "import pandas as pd\n",
    "\n",
    "atomic_dataset = AtomData.from_hdf5('kurucz_cd23_chianti_H_He.h5')"
   ]
  },
  {
   "cell_type": "code",
   "execution_count": 2,
   "metadata": {
    "collapsed": true
   },
   "outputs": [],
   "source": [
    "def get_index(ele):\n",
    "    index=-1\n",
    "    for atomic_no,row in atomic_dataset.atom_data.iterrows():\n",
    "        if ele in row['name']:\n",
    "            index = atomic_no\n",
    "            break\n",
    "    return index"
   ]
  },
  {
   "cell_type": "code",
   "execution_count": 45,
   "metadata": {
    "collapsed": false
   },
   "outputs": [],
   "source": [
    "def extract_block(f):\n",
    "    qty = []\n",
    "    for line in f:\n",
    "        items = line.split()\n",
    "        if items:\n",
    "            qty.extend(np.array(items).astype(np.float64))\n",
    "        else:\n",
    "            break\n",
    "    qty = np.array(qty)\n",
    "    return qty"
   ]
  },
  {
   "cell_type": "code",
   "execution_count": 48,
   "metadata": {
    "collapsed": false
   },
   "outputs": [],
   "source": [
    "def parse_file(fname):\n",
    "    with open(fname,'r') as f:\n",
    "        for line in f:\n",
    "            items = line.split()\n",
    "            n = len(items)\n",
    "            \n",
    "            if 'data points' in line:\n",
    "                no_of_shells = int(items[n-1])\n",
    "                df = pd.DataFrame(columns=np.arange(int(items[n-1])),\n",
    "                         index=pd.Index([],\n",
    "                                        name='element'),\n",
    "                         dtype=np.float64)            \n",
    "            if 'Velocity' in line:\n",
    "                velocity = extract_block(f)\n",
    "            if 'Density' in line:\n",
    "                density = extract_block(f)\n",
    "            if 'Electron density' in line:\n",
    "                elec_density = extract_block(f)\n",
    "            if 'mass fraction\\n' in line:\n",
    "                    abundances = []\n",
    "                    element_string = items[0]\n",
    "                    atomic_no = get_index(element_string.capitalize())\n",
    "                    element_symbol = atomic_dataset.atom_data.loc[atomic_no]['symbol']\n",
    "                    \n",
    "                    #Its a Isotope\n",
    "                    if n==4:\n",
    "                        element_symbol+=items[1]\n",
    "                    \n",
    "                    for line in f:\n",
    "                        items =line.split()\n",
    "                        if items:\n",
    "                            abundances.extend( np.array(items).astype(np.float64))\n",
    "                        else:\n",
    "                            break\n",
    "                    \n",
    "                    df.loc[element_symbol] = abundances\n",
    "    print density\n",
    "    return df.transpose()\n",
    "                "
   ]
  },
  {
   "cell_type": "code",
   "execution_count": 49,
   "metadata": {
    "collapsed": false
   },
   "outputs": [
    {
     "name": "stdout",
     "output_type": "stream",
     "text": [
      "[  2.03070640e-18   2.03102960e-18   2.03717390e-18   2.05017290e-18\n",
      "   2.07641860e-18   2.12992180e-18   2.24110030e-18   2.54418690e-18\n",
      "   2.98250920e-18   3.60387980e-18   4.49776800e-18   5.77507510e-18\n",
      "   7.61375770e-18   1.02661100e-17   1.40983690e-17   1.96738090e-17\n",
      "   2.77635650e-17   3.95697560e-17   5.67580460e-17   8.18252580e-17\n",
      "   1.18335620e-16   1.71540130e-16   2.49201860e-16   3.62766190e-16\n",
      "   5.29659080e-16   7.76028600e-16   1.14390060e-15   1.70263150e-15\n",
      "   2.61147960e-15   4.05966740e-15   6.17606610e-15   8.79369840e-15\n",
      "   1.19136870e-14   1.81069000e-14   3.41732910e-14   7.38634580e-14\n",
      "   1.54230530e-13   2.74662680e-13   4.27788900e-13   6.15918470e-13\n",
      "   8.19270580e-13   1.10932490e-12   1.50430230e-12   1.97092700e-12\n",
      "   2.52714490e-12   3.27139160e-12   4.44873500e-12   6.26413150e-12\n",
      "   8.62326020e-12   1.16814180e-11   1.64281650e-11   2.44205070e-11\n",
      "   3.48509160e-11   4.20977240e-11   5.10960890e-11   6.42290210e-11\n",
      "   7.27875330e-11   7.31046280e-11   6.47667460e-11   4.64485490e-11\n",
      "   3.64389950e-11   3.59789160e-11   4.11643690e-11   4.89480670e-11\n",
      "   5.53373110e-11   6.28558360e-11   7.51240120e-11   9.54345160e-11\n",
      "   1.22274550e-10   1.74267910e-10   2.42609840e-10   2.97369320e-10\n",
      "   3.39516510e-10   3.97178110e-10   4.60401070e-10   5.05413070e-10\n",
      "   5.78396810e-10   6.66165680e-10   7.14307130e-10   7.57059750e-10\n",
      "   8.25280820e-10   8.82839770e-10   9.27259330e-10   1.01184740e-09\n",
      "   1.14879200e-09   1.16846560e-09   1.13285240e-09   1.39126420e-09\n",
      "   1.84681880e-09   2.20346860e-09   2.59025350e-09   2.97912520e-09\n",
      "   3.31380950e-09   3.50735610e-09   3.63020370e-09   3.79301410e-09\n",
      "   3.99172430e-09   4.20886300e-09   4.34708890e-09   4.39945580e-09\n",
      "   4.44763900e-09   4.44552510e-09   4.48472780e-09   4.52465160e-09\n",
      "   4.45442750e-09   4.33968350e-09   4.29099700e-09   4.26830790e-09\n",
      "   4.25636040e-09   4.25395370e-09   4.25372710e-09   4.25371910e-09\n",
      "   4.25371910e-09   4.25371910e-09   4.25371910e-09]\n"
     ]
    }
   ],
   "source": [
    "df = parse_file('DDC15_SN_HYDRO_DATA_0.976d')\n",
    "#df.to_csv('test.csv',index=False,sep=' ')"
   ]
  },
  {
   "cell_type": "code",
   "execution_count": 7,
   "metadata": {
    "collapsed": false
   },
   "outputs": [
    {
     "ename": "TypeError",
     "evalue": "Required argument 'object' (pos 1) not found",
     "output_type": "error",
     "traceback": [
      "\u001b[0;31m---------------------------------------------------------------------------\u001b[0m",
      "\u001b[0;31mTypeError\u001b[0m                                 Traceback (most recent call last)",
      "\u001b[0;32m<ipython-input-7-e82994c6a167>\u001b[0m in \u001b[0;36m<module>\u001b[0;34m()\u001b[0m\n\u001b[0;32m----> 1\u001b[0;31m \u001b[0ma\u001b[0m \u001b[0;34m=\u001b[0m \u001b[0mnp\u001b[0m\u001b[0;34m.\u001b[0m\u001b[0marray\u001b[0m\u001b[0;34m(\u001b[0m\u001b[0;34m)\u001b[0m\u001b[0;34m\u001b[0m\u001b[0m\n\u001b[0m",
      "\u001b[0;31mTypeError\u001b[0m: Required argument 'object' (pos 1) not found"
     ]
    }
   ],
   "source": []
  },
  {
   "cell_type": "code",
   "execution_count": null,
   "metadata": {
    "collapsed": true
   },
   "outputs": [],
   "source": []
  }
 ],
 "metadata": {
  "kernelspec": {
   "display_name": "Python 2",
   "language": "python",
   "name": "python2"
  },
  "language_info": {
   "codemirror_mode": {
    "name": "ipython",
    "version": 2
   },
   "file_extension": ".py",
   "mimetype": "text/x-python",
   "name": "python",
   "nbconvert_exporter": "python",
   "pygments_lexer": "ipython2",
   "version": "2.7.13"
  }
 },
 "nbformat": 4,
 "nbformat_minor": 2
}
