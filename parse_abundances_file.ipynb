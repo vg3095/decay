{
 "cells": [
  {
   "cell_type": "code",
   "execution_count": 1,
   "metadata": {
    "collapsed": false
   },
   "outputs": [
    {
     "name": "stderr",
     "output_type": "stream",
     "text": [
      "tardis.atomic - INFO - Read Atom Data with UUID=5ca3035ca8b311e3bb684437e69d75d7 and MD5=21095dd25faa1683f4c90c911a00c3f8\n"
     ]
    }
   ],
   "source": [
    "from tardis.atomic import AtomData\n",
    "import numpy as np\n",
    "import pandas as pd\n",
    "\n",
    "atomic_dataset = AtomData.from_hdf5('kurucz_cd23_chianti_H_He.h5')"
   ]
  },
  {
   "cell_type": "code",
   "execution_count": 2,
   "metadata": {
    "collapsed": true
   },
   "outputs": [],
   "source": [
    "def get_index(ele):\n",
    "    index=-1\n",
    "    for atomic_no,row in atomic_dataset.atom_data.iterrows():\n",
    "        if ele in row['name']:\n",
    "            index = atomic_no\n",
    "            break\n",
    "    return index"
   ]
  },
  {
   "cell_type": "code",
   "execution_count": 3,
   "metadata": {
    "collapsed": false
   },
   "outputs": [],
   "source": [
    "def parse_file(fname):\n",
    "    with open(fname,'r') as f:\n",
    "        for line in f:\n",
    "            items = line.split()\n",
    "            n = len(items)\n",
    "            \n",
    "            if 'data points' in line:\n",
    "                df = pd.DataFrame(columns=np.arange(int(items[n-1])),\n",
    "                         index=pd.Index([],\n",
    "                                        name='element'),\n",
    "                         dtype=np.float64)            \n",
    "            \n",
    "            if 'mass fraction\\n' in line:\n",
    "                    abundances = []\n",
    "                    element_string = items[0]\n",
    "                    atomic_no = get_index(element_string.capitalize())\n",
    "                    element_symbol = atomic_dataset.atom_data.loc[atomic_no]['symbol']\n",
    "                    \n",
    "                    #Its a Isotope\n",
    "                    if n==4:\n",
    "                        element_symbol+=items[1]\n",
    "                    \n",
    "                    for line in f:\n",
    "                        items =line.split()\n",
    "                        if items:\n",
    "                            abundances.extend( np.array(items).astype(np.float64))\n",
    "                        else:\n",
    "                            break\n",
    "                    \n",
    "                    df.loc[element_symbol] = abundances\n",
    "\n",
    "    return df.transpose()\n",
    "                "
   ]
  },
  {
   "cell_type": "code",
   "execution_count": 4,
   "metadata": {
    "collapsed": false
   },
   "outputs": [],
   "source": [
    "df = parse_file('DDC15_SN_HYDRO_DATA_0.976d')\n",
    "df.to_csv('test.csv',index=False,sep=' ')"
   ]
  },
  {
   "cell_type": "code",
   "execution_count": null,
   "metadata": {
    "collapsed": true
   },
   "outputs": [],
   "source": []
  }
 ],
 "metadata": {
  "kernelspec": {
   "display_name": "Python 2",
   "language": "python",
   "name": "python2"
  },
  "language_info": {
   "codemirror_mode": {
    "name": "ipython",
    "version": 2
   },
   "file_extension": ".py",
   "mimetype": "text/x-python",
   "name": "python",
   "nbconvert_exporter": "python",
   "pygments_lexer": "ipython2",
   "version": "2.7.13"
  }
 },
 "nbformat": 4,
 "nbformat_minor": 2
}
