{
 "cells": [
  {
   "cell_type": "code",
   "execution_count": 1,
   "metadata": {
    "collapsed": true
   },
   "outputs": [],
   "source": [
    "%load_ext autoreload\n",
    "%autoreload 2"
   ]
  },
  {
   "cell_type": "code",
   "execution_count": 2,
   "metadata": {
    "collapsed": true
   },
   "outputs": [],
   "source": [
    "import matplotlib.pyplot as plt\n",
    "%matplotlib inline  "
   ]
  },
  {
   "cell_type": "code",
   "execution_count": 3,
   "metadata": {
    "collapsed": false
   },
   "outputs": [
    {
     "name": "stderr",
     "output_type": "stream",
     "text": [
      "[\u001b[1mpy.warnings         \u001b[0m][\u001b[1;33mWARNING\u001b[0m]  /home/vaibhav/Documents/tardis/tardis/tardis/io/decay.py:2: QAWarning: pyne.data is not yet QA compliant.\n",
      "  from pyne import nucname, material\n",
      " (\u001b[1mdecay.py\u001b[0m:2)\n",
      "py.warnings - \u001b[1;33mWARNING\u001b[0m - /home/vaibhav/Documents/tardis/tardis/tardis/io/decay.py:2: QAWarning: pyne.data is not yet QA compliant.\n",
      "  from pyne import nucname, material\n",
      "\n",
      "[\u001b[1mpy.warnings         \u001b[0m][\u001b[1;33mWARNING\u001b[0m]  /home/vaibhav/Documents/tardis/tardis/tardis/io/decay.py:2: QAWarning: pyne.material is not yet QA compliant.\n",
      "  from pyne import nucname, material\n",
      " (\u001b[1mdecay.py\u001b[0m:2)\n",
      "py.warnings - \u001b[1;33mWARNING\u001b[0m - /home/vaibhav/Documents/tardis/tardis/tardis/io/decay.py:2: QAWarning: pyne.material is not yet QA compliant.\n",
      "  from pyne import nucname, material\n",
      "\n"
     ]
    }
   ],
   "source": [
    "from tardis.simulation import Simulation\n",
    "from tardis.io.config_reader import Configuration"
   ]
  },
  {
   "cell_type": "code",
   "execution_count": 4,
   "metadata": {
    "collapsed": false
   },
   "outputs": [
    {
     "data": {
      "text/plain": [
       "{'Ar': 0.04,\n",
       " 'Ca': 0.03,\n",
       " 'Mg': 0.03,\n",
       " 'Ni56': 0.1,\n",
       " 'O': 0.19,\n",
       " 'S': 0.19,\n",
       " 'Si': 0.42,\n",
       " 'type': 'uniform'}"
      ]
     },
     "execution_count": 4,
     "metadata": {},
     "output_type": "execute_result"
    }
   ],
   "source": [
    "config1 = Configuration.from_yaml('config_1.yml')\n",
    "config1.model.abundances"
   ]
  },
  {
   "cell_type": "code",
   "execution_count": 5,
   "metadata": {
    "collapsed": false
   },
   "outputs": [
    {
     "name": "stderr",
     "output_type": "stream",
     "text": [
      "[\u001b[1mtardis.plasma.standard_plasmas\u001b[0m][\u001b[1;37mINFO\u001b[0m   ]  Reading Atomic Data from kurucz_cd23_chianti_H_He.h5 (\u001b[1mstandard_plasmas.py\u001b[0m:72)\n",
      "tardis.plasma.standard_plasmas - \u001b[1;37mINFO\u001b[0m - Reading Atomic Data from kurucz_cd23_chianti_H_He.h5\n",
      "tardis.atomic - INFO - Read Atom Data with UUID=5ca3035ca8b311e3bb684437e69d75d7 and MD5=21095dd25faa1683f4c90c911a00c3f8\n",
      "[\u001b[1mtardis.plasma.base  \u001b[0m][\u001b[1;34mDEBUG\u001b[0m  ]  Updating modules in the following order: (\u001b[1mbase.py\u001b[0m:195)\n",
      "tardis.plasma.base - \u001b[1;34mDEBUG\u001b[0m - Updating modules in the following order:\n",
      "[\u001b[1mtardis.montecarlo.base\u001b[0m][\u001b[1;34mDEBUG\u001b[0m  ]  Electron scattering switched on (\u001b[1mbase.py\u001b[0m:416)\n",
      "tardis.montecarlo.base - \u001b[1;34mDEBUG\u001b[0m - Electron scattering switched on\n",
      "[\u001b[1mpy.warnings         \u001b[0m][\u001b[1;33mWARNING\u001b[0m]  /home/vaibhav/anaconda2/lib/python2.7/site-packages/astropy/units/equivalencies.py:74: RuntimeWarning: divide by zero encountered in double_scalars\n",
      "  (si.m, si.Hz, lambda x: _si.c.value / x),\n",
      " (\u001b[1mequivalencies.py\u001b[0m:74)\n",
      "py.warnings - \u001b[1;33mWARNING\u001b[0m - /home/vaibhav/anaconda2/lib/python2.7/site-packages/astropy/units/equivalencies.py:74: RuntimeWarning: divide by zero encountered in double_scalars\n",
      "  (si.m, si.Hz, lambda x: _si.c.value / x),\n",
      "\n",
      "[\u001b[1mtardis.simulation.base\u001b[0m][\u001b[1;37mINFO\u001b[0m   ]  Starting iteration 1/5 (\u001b[1mbase.py\u001b[0m:194)\n",
      "tardis.simulation.base - \u001b[1;37mINFO\u001b[0m - Starting iteration 1/5\n",
      "[\u001b[1mtardis.simulation.base\u001b[0m][\u001b[1;37mINFO\u001b[0m   ]  Luminosity emitted = 6.28653e+42 erg / s Luminosity absorbed = 4.38764e+42 erg / s Luminosity requested = 1.07688e+43 erg / s (\u001b[1mbase.py\u001b[0m:271)\n",
      "tardis.simulation.base - \u001b[1;37mINFO\u001b[0m - Luminosity emitted = 6.28653e+42 erg / s Luminosity absorbed = 4.38764e+42 erg / s Luminosity requested = 1.07688e+43 erg / s\n",
      "[\u001b[1mtardis.simulation.base\u001b[0m][\u001b[1;37mINFO\u001b[0m   ]  Plasma stratification:\n",
      "\t             t_rad    next_t_rad         w    next_w\n",
      "\tShell                                               \n",
      "\t0      9967.488442  10263.669904  0.400392  0.439127\n",
      "\t5      9893.293062   9828.921370  0.211205  0.217451\n",
      "\t10     9820.194102   9334.802004  0.142695  0.156899\n",
      "\t15     9748.167438   8942.221391  0.104556  0.128047\n",
      "\n",
      " (\u001b[1mbase.py\u001b[0m:262)\n",
      "tardis.simulation.base - \u001b[1;37mINFO\u001b[0m - Plasma stratification:\n",
      "\t             t_rad    next_t_rad         w    next_w\n",
      "\tShell                                               \n",
      "\t0      9967.488442  10263.669904  0.400392  0.439127\n",
      "\t5      9893.293062   9828.921370  0.211205  0.217451\n",
      "\t10     9820.194102   9334.802004  0.142695  0.156899\n",
      "\t15     9748.167438   8942.221391  0.104556  0.128047\n",
      "\n",
      "\n",
      "[\u001b[1mtardis.simulation.base\u001b[0m][\u001b[1;37mINFO\u001b[0m   ]  t_inner 9974.969 K -- next t_inner 11515.176 K (\u001b[1mbase.py\u001b[0m:264)\n",
      "tardis.simulation.base - \u001b[1;37mINFO\u001b[0m - t_inner 9974.969 K -- next t_inner 11515.176 K\n",
      "[\u001b[1mtardis.plasma.base  \u001b[0m][\u001b[1;34mDEBUG\u001b[0m  ]  Updating modules in the following order: (\u001b[1mbase.py\u001b[0m:195)\n",
      "tardis.plasma.base - \u001b[1;34mDEBUG\u001b[0m - Updating modules in the following order:\n",
      "[\u001b[1mtardis.simulation.base\u001b[0m][\u001b[1;37mINFO\u001b[0m   ]  Starting iteration 2/5 (\u001b[1mbase.py\u001b[0m:194)\n",
      "tardis.simulation.base - \u001b[1;37mINFO\u001b[0m - Starting iteration 2/5\n",
      "[\u001b[1mtardis.simulation.base\u001b[0m][\u001b[1;37mINFO\u001b[0m   ]  Luminosity emitted = 1.00090e+43 erg / s Luminosity absorbed = 8.86336e+42 erg / s Luminosity requested = 1.07688e+43 erg / s (\u001b[1mbase.py\u001b[0m:271)\n",
      "tardis.simulation.base - \u001b[1;37mINFO\u001b[0m - Luminosity emitted = 1.00090e+43 erg / s Luminosity absorbed = 8.86336e+42 erg / s Luminosity requested = 1.07688e+43 erg / s\n",
      "[\u001b[1mtardis.simulation.base\u001b[0m][\u001b[1;37mINFO\u001b[0m   ]  Plasma stratification:\n",
      "\t              t_rad    next_t_rad         w    next_w\n",
      "\tShell                                                \n",
      "\t0      10263.669904  11011.113457  0.439127  0.501897\n",
      "\t5       9828.921370  10200.554028  0.217451  0.252672\n",
      "\t10      9334.802004   9515.194815  0.156899  0.181719\n",
      "\t15      8942.221391   8894.073706  0.128047  0.154675\n",
      "\n",
      " (\u001b[1mbase.py\u001b[0m:262)\n",
      "tardis.simulation.base - \u001b[1;37mINFO\u001b[0m - Plasma stratification:\n",
      "\t              t_rad    next_t_rad         w    next_w\n",
      "\tShell                                                \n",
      "\t0      10263.669904  11011.113457  0.439127  0.501897\n",
      "\t5       9828.921370  10200.554028  0.217451  0.252672\n",
      "\t10      9334.802004   9515.194815  0.156899  0.181719\n",
      "\t15      8942.221391   8894.073706  0.128047  0.154675\n",
      "\n",
      "\n",
      "[\u001b[1mtardis.simulation.base\u001b[0m][\u001b[1;37mINFO\u001b[0m   ]  t_inner 11515.176 K -- next t_inner 11729.721 K (\u001b[1mbase.py\u001b[0m:264)\n",
      "tardis.simulation.base - \u001b[1;37mINFO\u001b[0m - t_inner 11515.176 K -- next t_inner 11729.721 K\n",
      "[\u001b[1mtardis.plasma.base  \u001b[0m][\u001b[1;34mDEBUG\u001b[0m  ]  Updating modules in the following order: (\u001b[1mbase.py\u001b[0m:195)\n",
      "tardis.plasma.base - \u001b[1;34mDEBUG\u001b[0m - Updating modules in the following order:\n",
      "[\u001b[1mtardis.simulation.base\u001b[0m][\u001b[1;37mINFO\u001b[0m   ]  Starting iteration 3/5 (\u001b[1mbase.py\u001b[0m:194)\n",
      "tardis.simulation.base - \u001b[1;37mINFO\u001b[0m - Starting iteration 3/5\n",
      "[\u001b[1mtardis.simulation.base\u001b[0m][\u001b[1;37mINFO\u001b[0m   ]  Luminosity emitted = 1.09544e+43 erg / s Luminosity absorbed = 9.35918e+42 erg / s Luminosity requested = 1.07688e+43 erg / s (\u001b[1mbase.py\u001b[0m:271)\n",
      "tardis.simulation.base - \u001b[1;37mINFO\u001b[0m - Luminosity emitted = 1.09544e+43 erg / s Luminosity absorbed = 9.35918e+42 erg / s Luminosity requested = 1.07688e+43 erg / s\n",
      "[\u001b[1mtardis.simulation.base\u001b[0m][\u001b[1;37mINFO\u001b[0m   ]  Plasma stratification:\n",
      "\t              t_rad    next_t_rad         w    next_w\n",
      "\tShell                                                \n",
      "\t0      11011.113457  11615.006889  0.501897  0.512779\n",
      "\t5      10200.554028  10575.842329  0.252672  0.264085\n",
      "\t10      9515.194815   9769.236506  0.181719  0.191429\n",
      "\t15      8894.073706   9049.469111  0.154675  0.164432\n",
      "\n",
      " (\u001b[1mbase.py\u001b[0m:262)\n",
      "tardis.simulation.base - \u001b[1;37mINFO\u001b[0m - Plasma stratification:\n",
      "\t              t_rad    next_t_rad         w    next_w\n",
      "\tShell                                                \n",
      "\t0      11011.113457  11615.006889  0.501897  0.512779\n",
      "\t5      10200.554028  10575.842329  0.252672  0.264085\n",
      "\t10      9515.194815   9769.236506  0.181719  0.191429\n",
      "\t15      8894.073706   9049.469111  0.154675  0.164432\n",
      "\n",
      "\n",
      "[\u001b[1mtardis.simulation.base\u001b[0m][\u001b[1;37mINFO\u001b[0m   ]  t_inner 11729.721 K -- next t_inner 11679.821 K (\u001b[1mbase.py\u001b[0m:264)\n",
      "tardis.simulation.base - \u001b[1;37mINFO\u001b[0m - t_inner 11729.721 K -- next t_inner 11679.821 K\n",
      "[\u001b[1mtardis.plasma.base  \u001b[0m][\u001b[1;34mDEBUG\u001b[0m  ]  Updating modules in the following order: (\u001b[1mbase.py\u001b[0m:195)\n",
      "tardis.plasma.base - \u001b[1;34mDEBUG\u001b[0m - Updating modules in the following order:\n",
      "[\u001b[1mtardis.simulation.base\u001b[0m][\u001b[1;37mINFO\u001b[0m   ]  Starting iteration 4/5 (\u001b[1mbase.py\u001b[0m:194)\n",
      "tardis.simulation.base - \u001b[1;37mINFO\u001b[0m - Starting iteration 4/5\n",
      "[\u001b[1mtardis.simulation.base\u001b[0m][\u001b[1;37mINFO\u001b[0m   ]  Luminosity emitted = 1.08511e+43 erg / s Luminosity absorbed = 9.11949e+42 erg / s Luminosity requested = 1.07688e+43 erg / s (\u001b[1mbase.py\u001b[0m:271)\n",
      "tardis.simulation.base - \u001b[1;37mINFO\u001b[0m - Luminosity emitted = 1.08511e+43 erg / s Luminosity absorbed = 9.11949e+42 erg / s Luminosity requested = 1.07688e+43 erg / s\n",
      "[\u001b[1mtardis.simulation.base\u001b[0m][\u001b[1;37mINFO\u001b[0m   ]  Plasma stratification:\n",
      "\t              t_rad    next_t_rad         w    next_w\n",
      "\tShell                                                \n",
      "\t0      11615.006889  12017.457340  0.512779  0.498668\n",
      "\t5      10575.842329  10845.104751  0.264085  0.259316\n",
      "\t10      9769.236506   9997.570892  0.191429  0.189135\n",
      "\t15      9049.469111   9202.747517  0.164432  0.163959\n",
      "\n",
      " (\u001b[1mbase.py\u001b[0m:262)\n",
      "tardis.simulation.base - \u001b[1;37mINFO\u001b[0m - Plasma stratification:\n",
      "\t              t_rad    next_t_rad         w    next_w\n",
      "\tShell                                                \n",
      "\t0      11615.006889  12017.457340  0.512779  0.498668\n",
      "\t5      10575.842329  10845.104751  0.264085  0.259316\n",
      "\t10      9769.236506   9997.570892  0.191429  0.189135\n",
      "\t15      9049.469111   9202.747517  0.164432  0.163959\n",
      "\n",
      "\n",
      "[\u001b[1mtardis.simulation.base\u001b[0m][\u001b[1;37mINFO\u001b[0m   ]  t_inner 11679.821 K -- next t_inner 11657.622 K (\u001b[1mbase.py\u001b[0m:264)\n",
      "tardis.simulation.base - \u001b[1;37mINFO\u001b[0m - t_inner 11679.821 K -- next t_inner 11657.622 K\n",
      "[\u001b[1mtardis.plasma.base  \u001b[0m][\u001b[1;34mDEBUG\u001b[0m  ]  Updating modules in the following order: (\u001b[1mbase.py\u001b[0m:195)\n",
      "tardis.plasma.base - \u001b[1;34mDEBUG\u001b[0m - Updating modules in the following order:\n",
      "[\u001b[1mtardis.simulation.base\u001b[0m][\u001b[1;37mINFO\u001b[0m   ]  Starting iteration 5/5 (\u001b[1mbase.py\u001b[0m:194)\n",
      "tardis.simulation.base - \u001b[1;37mINFO\u001b[0m - Starting iteration 5/5\n",
      "[\u001b[1mtardis.simulation.base\u001b[0m][\u001b[1;37mINFO\u001b[0m   ]  Luminosity emitted = 1.07877e+43 erg / s Luminosity absorbed = 9.03355e+42 erg / s Luminosity requested = 1.07688e+43 erg / s (\u001b[1mbase.py\u001b[0m:271)\n",
      "tardis.simulation.base - \u001b[1;37mINFO\u001b[0m - Luminosity emitted = 1.07877e+43 erg / s Luminosity absorbed = 9.03355e+42 erg / s Luminosity requested = 1.07688e+43 erg / s\n",
      "[\u001b[1mtardis.simulation.base\u001b[0m][\u001b[1;37mINFO\u001b[0m   ]  Simulation finished in 5 iterations and took 323.18 s (\u001b[1mbase.py\u001b[0m:221)\n",
      "tardis.simulation.base - \u001b[1;37mINFO\u001b[0m - Simulation finished in 5 iterations and took 323.18 s\n"
     ]
    }
   ],
   "source": [
    "sim1 = Simulation.from_config(config1)\n",
    "sim1.run()"
   ]
  },
  {
   "cell_type": "code",
   "execution_count": 16,
   "metadata": {
    "collapsed": false
   },
   "outputs": [
    {
     "data": {
      "image/png": "[encoded data removed]",
      "text/plain": [
       "<matplotlib.figure.Figure at 0x7f398c5f8d10>"
      ]
     },
     "metadata": {},
     "output_type": "display_data"
    }
   ],
   "source": [
    "sim1.runner.spectrum_virtual.plot()"
   ]
  },
  {
   "cell_type": "code",
   "execution_count": 7,
   "metadata": {
    "collapsed": false
   },
   "outputs": [
    {
     "data": {
      "text/plain": [
       "{'Ar': 0.04,\n",
       " 'Ca': 0.03,\n",
       " 'Co': 0.072,\n",
       " 'Fe': 0.005,\n",
       " 'Mg': 0.03,\n",
       " 'Ni': 0.023,\n",
       " 'O': 0.19,\n",
       " 'S': 0.19,\n",
       " 'Si': 0.42,\n",
       " 'type': 'uniform'}"
      ]
     },
     "execution_count": 7,
     "metadata": {},
     "output_type": "execute_result"
    }
   ],
   "source": [
    "config2 = Configuration.from_yaml('config_2.yml')\n",
    "config2.model.abundances"
   ]
  },
  {
   "cell_type": "code",
   "execution_count": 8,
   "metadata": {
    "collapsed": false
   },
   "outputs": [
    {
     "name": "stderr",
     "output_type": "stream",
     "text": [
      "[\u001b[1mtardis.plasma.standard_plasmas\u001b[0m][\u001b[1;37mINFO\u001b[0m   ]  Reading Atomic Data from kurucz_cd23_chianti_H_He.h5 (\u001b[1mstandard_plasmas.py\u001b[0m:72)\n",
      "tardis.plasma.standard_plasmas - \u001b[1;37mINFO\u001b[0m - Reading Atomic Data from kurucz_cd23_chianti_H_He.h5\n",
      "tardis.atomic - INFO - Read Atom Data with UUID=5ca3035ca8b311e3bb684437e69d75d7 and MD5=21095dd25faa1683f4c90c911a00c3f8\n",
      "[\u001b[1mtardis.plasma.base  \u001b[0m][\u001b[1;34mDEBUG\u001b[0m  ]  Updating modules in the following order: (\u001b[1mbase.py\u001b[0m:195)\n",
      "tardis.plasma.base - \u001b[1;34mDEBUG\u001b[0m - Updating modules in the following order:\n",
      "[\u001b[1mtardis.montecarlo.base\u001b[0m][\u001b[1;34mDEBUG\u001b[0m  ]  Electron scattering switched on (\u001b[1mbase.py\u001b[0m:416)\n",
      "tardis.montecarlo.base - \u001b[1;34mDEBUG\u001b[0m - Electron scattering switched on\n",
      "[\u001b[1mtardis.simulation.base\u001b[0m][\u001b[1;37mINFO\u001b[0m   ]  Starting iteration 1/5 (\u001b[1mbase.py\u001b[0m:194)\n",
      "tardis.simulation.base - \u001b[1;37mINFO\u001b[0m - Starting iteration 1/5\n",
      "[\u001b[1mtardis.simulation.base\u001b[0m][\u001b[1;37mINFO\u001b[0m   ]  Luminosity emitted = 6.28542e+42 erg / s Luminosity absorbed = 4.38772e+42 erg / s Luminosity requested = 1.07688e+43 erg / s (\u001b[1mbase.py\u001b[0m:271)\n",
      "tardis.simulation.base - \u001b[1;37mINFO\u001b[0m - Luminosity emitted = 6.28542e+42 erg / s Luminosity absorbed = 4.38772e+42 erg / s Luminosity requested = 1.07688e+43 erg / s\n",
      "[\u001b[1mtardis.simulation.base\u001b[0m][\u001b[1;37mINFO\u001b[0m   ]  Plasma stratification:\n",
      "\t             t_rad    next_t_rad         w    next_w\n",
      "\tShell                                               \n",
      "\t0      9967.488442  10284.850962  0.400392  0.436457\n",
      "\t5      9893.293062   9847.345396  0.211205  0.216362\n",
      "\t10     9820.194102   9351.699052  0.142695  0.155987\n",
      "\t15     9748.167438   8950.660694  0.104556  0.127280\n",
      "\n",
      " (\u001b[1mbase.py\u001b[0m:262)\n",
      "tardis.simulation.base - \u001b[1;37mINFO\u001b[0m - Plasma stratification:\n",
      "\t             t_rad    next_t_rad         w    next_w\n",
      "\tShell                                               \n",
      "\t0      9967.488442  10284.850962  0.400392  0.436457\n",
      "\t5      9893.293062   9847.345396  0.211205  0.216362\n",
      "\t10     9820.194102   9351.699052  0.142695  0.155987\n",
      "\t15     9748.167438   8950.660694  0.104556  0.127280\n",
      "\n",
      "\n",
      "[\u001b[1mtardis.simulation.base\u001b[0m][\u001b[1;37mINFO\u001b[0m   ]  t_inner 9974.969 K -- next t_inner 11515.752 K (\u001b[1mbase.py\u001b[0m:264)\n",
      "tardis.simulation.base - \u001b[1;37mINFO\u001b[0m - t_inner 9974.969 K -- next t_inner 11515.752 K\n",
      "[\u001b[1mtardis.plasma.base  \u001b[0m][\u001b[1;34mDEBUG\u001b[0m  ]  Updating modules in the following order: (\u001b[1mbase.py\u001b[0m:195)\n",
      "tardis.plasma.base - \u001b[1;34mDEBUG\u001b[0m - Updating modules in the following order:\n",
      "[\u001b[1mtardis.simulation.base\u001b[0m][\u001b[1;37mINFO\u001b[0m   ]  Starting iteration 2/5 (\u001b[1mbase.py\u001b[0m:194)\n",
      "tardis.simulation.base - \u001b[1;37mINFO\u001b[0m - Starting iteration 2/5\n",
      "[\u001b[1mtardis.simulation.base\u001b[0m][\u001b[1;37mINFO\u001b[0m   ]  Luminosity emitted = 1.00232e+43 erg / s Luminosity absorbed = 8.85472e+42 erg / s Luminosity requested = 1.07688e+43 erg / s (\u001b[1mbase.py\u001b[0m:271)\n",
      "tardis.simulation.base - \u001b[1;37mINFO\u001b[0m - Luminosity emitted = 1.00232e+43 erg / s Luminosity absorbed = 8.85472e+42 erg / s Luminosity requested = 1.07688e+43 erg / s\n",
      "[\u001b[1mtardis.simulation.base\u001b[0m][\u001b[1;37mINFO\u001b[0m   ]  Plasma stratification:\n",
      "\t              t_rad    next_t_rad         w    next_w\n",
      "\tShell                                                \n",
      "\t0      10284.850962  11028.576793  0.436457  0.498897\n",
      "\t5       9847.345396  10225.493730  0.216362  0.249491\n",
      "\t10      9351.699052   9535.041803  0.155987  0.180548\n",
      "\t15      8950.660694   8896.982444  0.127280  0.154234\n",
      "\n",
      " (\u001b[1mbase.py\u001b[0m:262)\n",
      "tardis.simulation.base - \u001b[1;37mINFO\u001b[0m - Plasma stratification:\n",
      "\t              t_rad    next_t_rad         w    next_w\n",
      "\tShell                                                \n",
      "\t0      10284.850962  11028.576793  0.436457  0.498897\n",
      "\t5       9847.345396  10225.493730  0.216362  0.249491\n",
      "\t10      9351.699052   9535.041803  0.155987  0.180548\n",
      "\t15      8950.660694   8896.982444  0.127280  0.154234\n",
      "\n",
      "\n",
      "[\u001b[1mtardis.simulation.base\u001b[0m][\u001b[1;37mINFO\u001b[0m   ]  t_inner 11515.752 K -- next t_inner 11726.071 K (\u001b[1mbase.py\u001b[0m:264)\n",
      "tardis.simulation.base - \u001b[1;37mINFO\u001b[0m - t_inner 11515.752 K -- next t_inner 11726.071 K\n",
      "[\u001b[1mtardis.plasma.base  \u001b[0m][\u001b[1;34mDEBUG\u001b[0m  ]  Updating modules in the following order: (\u001b[1mbase.py\u001b[0m:195)\n",
      "tardis.plasma.base - \u001b[1;34mDEBUG\u001b[0m - Updating modules in the following order:\n",
      "[\u001b[1mtardis.simulation.base\u001b[0m][\u001b[1;37mINFO\u001b[0m   ]  Starting iteration 3/5 (\u001b[1mbase.py\u001b[0m:194)\n",
      "tardis.simulation.base - \u001b[1;37mINFO\u001b[0m - Starting iteration 3/5\n",
      "[\u001b[1mtardis.simulation.base\u001b[0m][\u001b[1;37mINFO\u001b[0m   ]  Luminosity emitted = 1.09231e+43 erg / s Luminosity absorbed = 9.36311e+42 erg / s Luminosity requested = 1.07688e+43 erg / s (\u001b[1mbase.py\u001b[0m:271)\n",
      "tardis.simulation.base - \u001b[1;37mINFO\u001b[0m - Luminosity emitted = 1.09231e+43 erg / s Luminosity absorbed = 9.36311e+42 erg / s Luminosity requested = 1.07688e+43 erg / s\n",
      "[\u001b[1mtardis.simulation.base\u001b[0m][\u001b[1;37mINFO\u001b[0m   ]  Plasma stratification:\n",
      "\t              t_rad    next_t_rad         w    next_w\n",
      "\tShell                                                \n",
      "\t0      11028.576793  11610.815325  0.498897  0.513830\n",
      "\t5      10225.493730  10615.876621  0.249491  0.259393\n",
      "\t10      9535.041803   9829.417936  0.180548  0.187855\n",
      "\t15      8896.982444   9085.816536  0.154234  0.161660\n",
      "\n",
      " (\u001b[1mbase.py\u001b[0m:262)\n",
      "tardis.simulation.base - \u001b[1;37mINFO\u001b[0m - Plasma stratification:\n",
      "\t              t_rad    next_t_rad         w    next_w\n",
      "\tShell                                                \n",
      "\t0      11028.576793  11610.815325  0.498897  0.513830\n",
      "\t5      10225.493730  10615.876621  0.249491  0.259393\n",
      "\t10      9535.041803   9829.417936  0.180548  0.187855\n",
      "\t15      8896.982444   9085.816536  0.154234  0.161660\n",
      "\n",
      "\n",
      "[\u001b[1mtardis.simulation.base\u001b[0m][\u001b[1;37mINFO\u001b[0m   ]  t_inner 11726.071 K -- next t_inner 11684.505 K (\u001b[1mbase.py\u001b[0m:264)\n",
      "tardis.simulation.base - \u001b[1;37mINFO\u001b[0m - t_inner 11726.071 K -- next t_inner 11684.505 K\n",
      "[\u001b[1mtardis.plasma.base  \u001b[0m][\u001b[1;34mDEBUG\u001b[0m  ]  Updating modules in the following order: (\u001b[1mbase.py\u001b[0m:195)\n",
      "tardis.plasma.base - \u001b[1;34mDEBUG\u001b[0m - Updating modules in the following order:\n",
      "[\u001b[1mtardis.simulation.base\u001b[0m][\u001b[1;37mINFO\u001b[0m   ]  Starting iteration 4/5 (\u001b[1mbase.py\u001b[0m:194)\n",
      "tardis.simulation.base - \u001b[1;37mINFO\u001b[0m - Starting iteration 4/5\n",
      "[\u001b[1mtardis.simulation.base\u001b[0m][\u001b[1;37mINFO\u001b[0m   ]  Luminosity emitted = 1.08316e+43 erg / s Luminosity absorbed = 9.17000e+42 erg / s Luminosity requested = 1.07688e+43 erg / s (\u001b[1mbase.py\u001b[0m:271)\n",
      "tardis.simulation.base - \u001b[1;37mINFO\u001b[0m - Luminosity emitted = 1.08316e+43 erg / s Luminosity absorbed = 9.17000e+42 erg / s Luminosity requested = 1.07688e+43 erg / s\n",
      "[\u001b[1mtardis.simulation.base\u001b[0m][\u001b[1;37mINFO\u001b[0m   ]  Plasma stratification:\n",
      "\t              t_rad    next_t_rad         w    next_w\n",
      "\tShell                                                \n",
      "\t0      11610.815325  12021.717255  0.513830  0.498608\n",
      "\t5      10615.876621  10869.073908  0.259393  0.257440\n",
      "\t10      9829.417936  10025.634861  0.187855  0.187108\n",
      "\t15      9085.816536   9198.009778  0.161660  0.163319\n",
      "\n",
      " (\u001b[1mbase.py\u001b[0m:262)\n",
      "tardis.simulation.base - \u001b[1;37mINFO\u001b[0m - Plasma stratification:\n",
      "\t              t_rad    next_t_rad         w    next_w\n",
      "\tShell                                                \n",
      "\t0      11610.815325  12021.717255  0.513830  0.498608\n",
      "\t5      10615.876621  10869.073908  0.259393  0.257440\n",
      "\t10      9829.417936  10025.634861  0.187855  0.187108\n",
      "\t15      9085.816536   9198.009778  0.161660  0.163319\n",
      "\n",
      "\n",
      "[\u001b[1mtardis.simulation.base\u001b[0m][\u001b[1;37mINFO\u001b[0m   ]  t_inner 11684.505 K -- next t_inner 11667.532 K (\u001b[1mbase.py\u001b[0m:264)\n",
      "tardis.simulation.base - \u001b[1;37mINFO\u001b[0m - t_inner 11684.505 K -- next t_inner 11667.532 K\n",
      "[\u001b[1mtardis.plasma.base  \u001b[0m][\u001b[1;34mDEBUG\u001b[0m  ]  Updating modules in the following order: (\u001b[1mbase.py\u001b[0m:195)\n",
      "tardis.plasma.base - \u001b[1;34mDEBUG\u001b[0m - Updating modules in the following order:\n",
      "[\u001b[1mtardis.simulation.base\u001b[0m][\u001b[1;37mINFO\u001b[0m   ]  Starting iteration 5/5 (\u001b[1mbase.py\u001b[0m:194)\n",
      "tardis.simulation.base - \u001b[1;37mINFO\u001b[0m - Starting iteration 5/5\n",
      "[\u001b[1mtardis.simulation.base\u001b[0m][\u001b[1;37mINFO\u001b[0m   ]  Luminosity emitted = 1.08352e+43 erg / s Luminosity absorbed = 9.05257e+42 erg / s Luminosity requested = 1.07688e+43 erg / s (\u001b[1mbase.py\u001b[0m:271)\n",
      "tardis.simulation.base - \u001b[1;37mINFO\u001b[0m - Luminosity emitted = 1.08352e+43 erg / s Luminosity absorbed = 9.05257e+42 erg / s Luminosity requested = 1.07688e+43 erg / s\n",
      "[\u001b[1mtardis.simulation.base\u001b[0m][\u001b[1;37mINFO\u001b[0m   ]  Simulation finished in 5 iterations and took 313.28 s (\u001b[1mbase.py\u001b[0m:221)\n",
      "tardis.simulation.base - \u001b[1;37mINFO\u001b[0m - Simulation finished in 5 iterations and took 313.28 s\n"
     ]
    }
   ],
   "source": [
    "sim2 = Simulation.from_config(config2)\n",
    "sim2.run()"
   ]
  },
  {
   "cell_type": "code",
   "execution_count": 17,
   "metadata": {
    "collapsed": false
   },
   "outputs": [
    {
     "data": {
      "image/png": "[encoded data removed]",
      "text/plain": [
       "<matplotlib.figure.Figure at 0x7f398ca4c210>"
      ]
     },
     "metadata": {},
     "output_type": "display_data"
    }
   ],
   "source": [
    "sim2.runner.spectrum_virtual.plot()"
   ]
  },
  {
   "cell_type": "code",
   "execution_count": 18,
   "metadata": {
    "collapsed": false
   },
   "outputs": [
    {
     "data": {
      "image/png": "[encoded data removed]",
      "text/plain": [
       "<matplotlib.figure.Figure at 0x7f398b45a890>"
      ]
     },
     "metadata": {},
     "output_type": "display_data"
    }
   ],
   "source": [
    "plt.plot(sim1.runner.spectrum_virtual.wavelength.value, sim1.runner.spectrum_virtual.luminosity_density_lambda.value, 'b', label='isotope')\n",
    "plt.plot(sim2.runner.spectrum_virtual.wavelength.value, sim2.runner.spectrum_virtual.luminosity_density_lambda.value, 'r', label='element')\n",
    "plt.legend()\n",
    "plt.show()"
   ]
  },
  {
   "cell_type": "code",
   "execution_count": 11,
   "metadata": {
    "collapsed": false
   },
   "outputs": [
    {
     "data": {
      "text/html": [
       "<div>\n",
       "<style>\n",
       "    .dataframe thead tr:only-child th {\n",
       "        text-align: right;\n",
       "    }\n",
       "\n",
       "    .dataframe thead th {\n",
       "        text-align: left;\n",
       "    }\n",
       "\n",
       "    .dataframe tbody tr th {\n",
       "        vertical-align: top;\n",
       "    }\n",
       "</style>\n",
       "<table border=\"1\" class=\"dataframe\">\n",
       "  <thead>\n",
       "    <tr style=\"text-align: right;\">\n",
       "      <th></th>\n",
       "      <th></th>\n",
       "      <th>0</th>\n",
       "      <th>1</th>\n",
       "    </tr>\n",
       "    <tr>\n",
       "      <th>atomic_number</th>\n",
       "      <th>mass_number</th>\n",
       "      <th></th>\n",
       "      <th></th>\n",
       "    </tr>\n",
       "  </thead>\n",
       "  <tbody>\n",
       "    <tr>\n",
       "      <th>26</th>\n",
       "      <th>56</th>\n",
       "      <td>0.00535125</td>\n",
       "      <td>0.00535125</td>\n",
       "    </tr>\n",
       "    <tr>\n",
       "      <th>27</th>\n",
       "      <th>56</th>\n",
       "      <td>0.0719558</td>\n",
       "      <td>0.0719558</td>\n",
       "    </tr>\n",
       "    <tr>\n",
       "      <th>28</th>\n",
       "      <th>56</th>\n",
       "      <td>0.0226893</td>\n",
       "      <td>0.0226893</td>\n",
       "    </tr>\n",
       "  </tbody>\n",
       "</table>\n",
       "</div>"
      ],
      "text/plain": [
       "                                    0           1\n",
       "atomic_number mass_number                        \n",
       "26            56           0.00535125  0.00535125\n",
       "27            56            0.0719558   0.0719558\n",
       "28            56            0.0226893   0.0226893"
      ]
     },
     "execution_count": 11,
     "metadata": {},
     "output_type": "execute_result"
    }
   ],
   "source": [
    "### Ni56 Decay\n",
    "from tardis.io.decay import IsotopeAbundances\n",
    "import pandas as pd\n",
    "def simple_abundance_model():\n",
    "    index = pd.MultiIndex.from_tuples([(28, 56)],\n",
    "                                      names=['atomic_number', 'mass_number'])\n",
    "    return IsotopeAbundances([[0.1, 0.1]], index=index)\n",
    "simple_abundance_model().decay(13) #model.time_explosion = 13 days"
   ]
  },
  {
   "cell_type": "code",
   "execution_count": 12,
   "metadata": {
    "collapsed": false
   },
   "outputs": [
    {
     "data": {
      "text/latex": [
       "$13 \\; \\mathrm{d}$"
      ],
      "text/plain": [
       "<Quantity 13.0 d>"
      ]
     },
     "execution_count": 12,
     "metadata": {},
     "output_type": "execute_result"
    }
   ],
   "source": [
    "config2.supernova.time_explosion"
   ]
  },
  {
   "cell_type": "code",
   "execution_count": 13,
   "metadata": {
    "collapsed": false
   },
   "outputs": [
    {
     "data": {
      "text/latex": [
       "$13 \\; \\mathrm{d}$"
      ],
      "text/plain": [
       "<Quantity 13.0 d>"
      ]
     },
     "execution_count": 13,
     "metadata": {},
     "output_type": "execute_result"
    }
   ],
   "source": [
    "config1.supernova.time_explosion"
   ]
  },
  {
   "cell_type": "code",
   "execution_count": 14,
   "metadata": {
    "collapsed": false
   },
   "outputs": [
    {
     "data": {
      "text/plain": [
       "0.09999635"
      ]
     },
     "execution_count": 14,
     "metadata": {},
     "output_type": "execute_result"
    }
   ],
   "source": [
    "0.00535125+0.0719558+0.0226893"
   ]
  },
  {
   "cell_type": "code",
   "execution_count": 15,
   "metadata": {
    "collapsed": false
   },
   "outputs": [
    {
     "data": {
      "text/plain": [
       "0.1"
      ]
     },
     "execution_count": 15,
     "metadata": {},
     "output_type": "execute_result"
    }
   ],
   "source": [
    "0.005+0.072+0.023"
   ]
  },
  {
   "cell_type": "code",
   "execution_count": null,
   "metadata": {
    "collapsed": true
   },
   "outputs": [],
   "source": []
  }
 ],
 "metadata": {
  "kernelspec": {
   "display_name": "Python 2",
   "language": "python",
   "name": "python2"
  },
  "language_info": {
   "codemirror_mode": {
    "name": "ipython",
    "version": 2
   },
   "file_extension": ".py",
   "mimetype": "text/x-python",
   "name": "python",
   "nbconvert_exporter": "python",
   "pygments_lexer": "ipython2",
   "version": "2.7.13"
  }
 },
 "nbformat": 4,
 "nbformat_minor": 2
}
