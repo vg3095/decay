{
 "cells": [
  {
   "cell_type": "code",
   "execution_count": 1,
   "metadata": {
    "collapsed": true
   },
   "outputs": [],
   "source": [
    "%load_ext autoreload\n",
    "%autoreload 2"
   ]
  },
  {
   "cell_type": "code",
   "execution_count": 2,
   "metadata": {
    "collapsed": true
   },
   "outputs": [],
   "source": [
    "from tardis.simulation import Simulation\n",
    "from tardis.io.config_reader import Configuration"
   ]
  },
  {
   "cell_type": "code",
   "execution_count": 3,
   "metadata": {
    "collapsed": false
   },
   "outputs": [
    {
     "name": "stderr",
     "output_type": "stream",
     "text": [
      "[\u001b[1mtardis.model.base   \u001b[0m][\u001b[1;33mWARNING\u001b[0m]  Abundances have not been normalized to 1. - normalizing (\u001b[1mbase.py\u001b[0m:347)\n",
      "tardis.model.base - \u001b[1;33mWARNING\u001b[0m - Abundances have not been normalized to 1. - normalizing\n",
      "[\u001b[1mtardis.plasma.standard_plasmas\u001b[0m][\u001b[1;37mINFO\u001b[0m   ]  Reading Atomic Data from kurucz_cd23_chianti_H_He.h5 (\u001b[1mstandard_plasmas.py\u001b[0m:72)\n",
      "tardis.plasma.standard_plasmas - \u001b[1;37mINFO\u001b[0m - Reading Atomic Data from kurucz_cd23_chianti_H_He.h5\n",
      "tardis.atomic - INFO - Read Atom Data with UUID=5ca3035ca8b311e3bb684437e69d75d7 and MD5=21095dd25faa1683f4c90c911a00c3f8\n",
      "[\u001b[1mtardis.plasma.base  \u001b[0m][\u001b[1;34mDEBUG\u001b[0m  ]  Updating modules in the following order: (\u001b[1mbase.py\u001b[0m:195)\n",
      "tardis.plasma.base - \u001b[1;34mDEBUG\u001b[0m - Updating modules in the following order:\n",
      "[\u001b[1mtardis.montecarlo.base\u001b[0m][\u001b[1;34mDEBUG\u001b[0m  ]  Electron scattering switched on (\u001b[1mbase.py\u001b[0m:416)\n",
      "tardis.montecarlo.base - \u001b[1;34mDEBUG\u001b[0m - Electron scattering switched on\n",
      "[\u001b[1mpy.warnings         \u001b[0m][\u001b[1;33mWARNING\u001b[0m]  /home/vaibhav/anaconda2/lib/python2.7/site-packages/astropy/units/equivalencies.py:74: RuntimeWarning: divide by zero encountered in double_scalars\n",
      "  (si.m, si.Hz, lambda x: _si.c.value / x),\n",
      " (\u001b[1mequivalencies.py\u001b[0m:74)\n",
      "py.warnings - \u001b[1;33mWARNING\u001b[0m - /home/vaibhav/anaconda2/lib/python2.7/site-packages/astropy/units/equivalencies.py:74: RuntimeWarning: divide by zero encountered in double_scalars\n",
      "  (si.m, si.Hz, lambda x: _si.c.value / x),\n",
      "\n"
     ]
    }
   ],
   "source": [
    "config = Configuration.from_yaml('config_density.yml')\n",
    "sim = Simulation.from_config(config)"
   ]
  },
  {
   "cell_type": "code",
   "execution_count": 4,
   "metadata": {
    "collapsed": true
   },
   "outputs": [],
   "source": [
    "from tardis.io.model_reader import read_cmfgen_density\n",
    "time,velocity,density,electron_density = read_cmfgen_density('DDC15_SN_HYDRO_DATA_0.976d')"
   ]
  },
  {
   "cell_type": "code",
   "execution_count": 5,
   "metadata": {
    "collapsed": false
   },
   "outputs": [
    {
     "data": {
      "text/plain": [
       "array([  47112.488,   47651.842,   48308.911,   49308.29 ,   50896.621,\n",
       "         53799.937,   61340.13 ,   72027.807,   87102.975,  108745.06 ])"
      ]
     },
     "execution_count": 5,
     "metadata": {},
     "output_type": "execute_result"
    }
   ],
   "source": [
    "electron_density.cgs.value[:10]"
   ]
  },
  {
   "cell_type": "code",
   "execution_count": 6,
   "metadata": {
    "collapsed": false
   },
   "outputs": [
    {
     "data": {
      "text/plain": [
       "0      4.711249e+04\n",
       "1      4.765184e+04\n",
       "2      4.830891e+04\n",
       "3      4.930829e+04\n",
       "4      5.089662e+04\n",
       "5      5.379994e+04\n",
       "6      6.134013e+04\n",
       "7      7.202781e+04\n",
       "8      8.710298e+04\n",
       "9      1.087451e+05\n",
       "10     1.395542e+05\n",
       "11     1.837374e+05\n",
       "12     2.472234e+05\n",
       "13     3.383917e+05\n",
       "14     4.699825e+05\n",
       "15     6.590948e+05\n",
       "16     9.327166e+05\n",
       "17     1.328410e+06\n",
       "18     1.902931e+06\n",
       "19     2.736153e+06\n",
       "20     3.942785e+06\n",
       "21     5.684658e+06\n",
       "22     8.183909e+06\n",
       "23     1.175964e+07\n",
       "24     1.682447e+07\n",
       "25     2.394016e+07\n",
       "26     3.389785e+07\n",
       "27     4.822630e+07\n",
       "28     6.768495e+07\n",
       "29     9.119970e+07\n",
       "           ...     \n",
       "84     8.916281e+13\n",
       "85     8.621716e+13\n",
       "86     1.053340e+14\n",
       "87     1.393541e+14\n",
       "88     1.660444e+14\n",
       "89     1.951048e+14\n",
       "90     2.243652e+14\n",
       "91     2.495145e+14\n",
       "92     2.638820e+14\n",
       "93     2.726365e+14\n",
       "94     2.839713e+14\n",
       "95     2.974342e+14\n",
       "96     3.116441e+14\n",
       "97     3.193201e+14\n",
       "98     3.197952e+14\n",
       "99     3.190326e+14\n",
       "100    3.141962e+14\n",
       "101    3.115809e+14\n",
       "102    3.070134e+14\n",
       "103    2.914331e+14\n",
       "104    2.724173e+14\n",
       "105    2.637187e+14\n",
       "106    2.608755e+14\n",
       "107    2.598214e+14\n",
       "108    2.595844e+14\n",
       "109    2.595454e+14\n",
       "110    2.595390e+14\n",
       "111    2.595382e+14\n",
       "112    2.595381e+14\n",
       "113    2.595381e+14\n",
       "Length: 114, dtype: float64"
      ]
     },
     "execution_count": 6,
     "metadata": {},
     "output_type": "execute_result"
    }
   ],
   "source": [
    "sim.plasma.electron_densities"
   ]
  }
 ],
 "metadata": {
  "kernelspec": {
   "display_name": "Python 2",
   "language": "python",
   "name": "python2"
  },
  "language_info": {
   "codemirror_mode": {
    "name": "ipython",
    "version": 2
   },
   "file_extension": ".py",
   "mimetype": "text/x-python",
   "name": "python",
   "nbconvert_exporter": "python",
   "pygments_lexer": "ipython2",
   "version": "2.7.13"
  }
 },
 "nbformat": 4,
 "nbformat_minor": 2
}
